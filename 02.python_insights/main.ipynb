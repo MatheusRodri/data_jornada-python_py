{
 "cells": [
  {
   "cell_type": "markdown",
   "id": "817402e2",
   "metadata": {},
   "source": [
    "# Python Insights - Analisando Dados com Python\n",
    "\n",
    "### Case - Cancelamento de Clientes\n",
    "\n",
    "Você foi contratado por uma empresa com mais de 800 mil clientes para um projeto de Dados. Recentemente a empresa percebeu que da sua base total de clientes, a maioria são clientes inativos, ou seja, que já cancelaram o serviço.\n",
    "\n",
    "Precisando melhorar seus resultados ela quer conseguir entender os principais motivos desses cancelamentos e quais as ações mais eficientes para reduzir esse número."
   ]
  },
  {
   "cell_type": "code",
   "execution_count": null,
   "id": "4068f17a",
   "metadata": {},
   "outputs": [],
   "source": [
    "# Importe de bibliotecas\n",
    "import pandas as pd\n",
    "import numpy as np\n",
    "import plotly.express as px"
   ]
  },
  {
   "cell_type": "code",
   "execution_count": null,
   "id": "0874edf7",
   "metadata": {},
   "outputs": [],
   "source": [
    "# Carregamento de dados\n",
    "tabela = pd.read_csv('data/cancelamentos.csv')\n",
    "\n",
    "# Limpando a tabela\n",
    "tabela = tabela.drop(columns=\"CustomerID\")\n",
    "tabela"
   ]
  },
  {
   "cell_type": "code",
   "execution_count": null,
   "id": "a282f9ce",
   "metadata": {},
   "outputs": [],
   "source": [
    "# Verificando qualidade dos dados\n",
    "display(tabela.info())\n",
    "tabela = tabela.dropna()\n",
    "display(tabela.info())"
   ]
  },
  {
   "cell_type": "code",
   "execution_count": null,
   "id": "c5d387ff",
   "metadata": {},
   "outputs": [],
   "source": [
    "# Análise inicial dos dados\n",
    "# Quantos cancelamentos temos na base de dados?\n",
    "display(tabela[\"cancelou\"].value_counts())\n",
    "display(tabela[\"cancelou\"].value_counts(normalize=True).map(\"{:.2%}\".format))"
   ]
  },
  {
   "cell_type": "code",
   "execution_count": null,
   "id": "070fb552",
   "metadata": {},
   "outputs": [],
   "source": [
    "# Análise a causa dos cancelamentos dos clientes\n",
    "for coluna in tabela.columns:\n",
    "    grafico = px.histogram(tabela,x=coluna,color=\"cancelou\",text_auto=True)\n",
    "    grafico.show()"
   ]
  },
  {
   "cell_type": "code",
   "execution_count": null,
   "id": "bce443db",
   "metadata": {},
   "outputs": [],
   "source": [
    "# Filtrando dados inconsistentes\n",
    "condicao = tabela[\"ligacoes_callcenter\"] <= 4\n",
    "tabela = tabela[condicao]\n",
    "\n",
    "condicao = tabela[\"dias_atraso\"] <= 20\n",
    "tabela = tabela[condicao]\n",
    "\n",
    "condicao = tabela[\"duracao_contrato\"] != \"Monthly\"\n",
    "tabela = tabela[condicao]\n",
    "\n",
    "display(tabela[\"cancelou\"].value_counts(normalize=True).map(\"{:.2%}\".format))"
   ]
  }
 ],
 "metadata": {
  "kernelspec": {
   "display_name": "jornada_python",
   "language": "python",
   "name": "python3"
  },
  "language_info": {
   "codemirror_mode": {
    "name": "ipython",
    "version": 3
   },
   "file_extension": ".py",
   "mimetype": "text/x-python",
   "name": "python",
   "nbconvert_exporter": "python",
   "pygments_lexer": "ipython3",
   "version": "3.13.7"
  }
 },
 "nbformat": 4,
 "nbformat_minor": 5
}
